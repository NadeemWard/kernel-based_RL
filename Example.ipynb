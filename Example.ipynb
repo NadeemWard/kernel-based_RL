{
 "cells": [
  {
   "cell_type": "code",
   "execution_count": 1,
   "metadata": {},
   "outputs": [],
   "source": [
    "import numpy as np\n",
    "from kbrl import *\n",
    "import gym\n",
    "import os\n",
    "import shutil\n",
    "import json"
   ]
  },
  {
   "cell_type": "markdown",
   "metadata": {},
   "source": [
    "# Info about experiment to run"
   ]
  },
  {
   "cell_type": "code",
   "execution_count": 2,
   "metadata": {},
   "outputs": [],
   "source": [
    "# edit these arguments for different experiments\n",
    "\n",
    "args = {\"experiment_name\" : \"KB-LP_1000_rand_samples\", # name of directory to save model\n",
    "    \"env\" : \"CartPole-v0\",\n",
    "    \"gamma\" : 0.99,\n",
    "    \"bandwidth_vals\" : [0.01, 0.02, 0.03, 0.04, 0.05, 0.06, 0.1, 0.2],\n",
    "    \"num_samples_per_action\" : 1000 # number data points to collect per action \n",
    "}"
   ]
  },
  {
   "cell_type": "markdown",
   "metadata": {},
   "source": [
    "# Create Experiment\n",
    "\n",
    "create the folder to save model and results to. Saves to the logs directory."
   ]
  },
  {
   "cell_type": "code",
   "execution_count": 3,
   "metadata": {},
   "outputs": [
    {
     "name": "stdout",
     "output_type": "stream",
     "text": [
      "Are you sure you want to override the current existing directory? (Y/N)\n",
      "Y\n"
     ]
    }
   ],
   "source": [
    "experiment_folder = os.path.join(os.getcwd() + \"/logs\", args[\"experiment_name\"])\n",
    "\n",
    "# if experiment directory exists, ask if you want to override it.\n",
    "if os.path.exists(experiment_folder):\n",
    "    override = input(\"Are you sure you want to override the current existing directory? (Y/N)\\n\").lower()\n",
    "    if override == \"no\" or override == \"n\":\n",
    "        print(\"Terminating execution.\")\n",
    "        sys.exit()\n",
    "\n",
    "    else:\n",
    "        shutil.rmtree(experiment_folder)\n",
    "\n",
    "# create folder\n",
    "os.mkdir(experiment_folder)"
   ]
  },
  {
   "cell_type": "code",
   "execution_count": 7,
   "metadata": {},
   "outputs": [],
   "source": [
    "# save json information\n",
    "# save args to json in directory\n",
    "with open(experiment_folder + '/commandline_args.txt', 'w') as f:\n",
    "    json.dump(args, f, indent=2)"
   ]
  },
  {
   "cell_type": "markdown",
   "metadata": {},
   "source": [
    "# Collect Data\n",
    "collect data by running a few episodes using a random agent"
   ]
  },
  {
   "cell_type": "code",
   "execution_count": 8,
   "metadata": {},
   "outputs": [],
   "source": [
    "# info for data generation\n",
    "gamma = args[\"gamma\"]\n",
    "env = gym.make(args[\"env\"])\n",
    "num_samples_per_action = args[\"num_samples_per_action\"]\n",
    "kernel_vals = args[\"bandwidth_vals\"]\n",
    "gamma_vals = [gamma]"
   ]
  },
  {
   "cell_type": "code",
   "execution_count": 9,
   "metadata": {},
   "outputs": [],
   "source": [
    "# collect data\n",
    "transition_data, reward_data = get_data(env, total_samples_per_action=num_samples_per_action,\n",
    "                                       random = True)"
   ]
  },
  {
   "cell_type": "markdown",
   "metadata": {},
   "source": [
    "# Run experiment"
   ]
  },
  {
   "cell_type": "code",
   "execution_count": null,
   "metadata": {},
   "outputs": [],
   "source": [
    "plot_results(env, transition_data, reward_data, kernel_vals, \n",
    "             gamma_vals, axis = 1, num_episodes = 1000, \n",
    "             path = experiment_folder, lp = True)\n",
    "\n",
    "# lp = True is a flag to solve by LP or by Value iteration"
   ]
  },
  {
   "cell_type": "code",
   "execution_count": null,
   "metadata": {},
   "outputs": [],
   "source": []
  }
 ],
 "metadata": {
  "kernelspec": {
   "display_name": "Python 3",
   "language": "python",
   "name": "python3"
  },
  "language_info": {
   "codemirror_mode": {
    "name": "ipython",
    "version": 3
   },
   "file_extension": ".py",
   "mimetype": "text/x-python",
   "name": "python",
   "nbconvert_exporter": "python",
   "pygments_lexer": "ipython3",
   "version": "3.7.7"
  }
 },
 "nbformat": 4,
 "nbformat_minor": 4
}
